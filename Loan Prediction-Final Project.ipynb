{
 "cells": [
  {
   "cell_type": "markdown",
   "id": "e70571a0",
   "metadata": {},
   "source": [
    "https://www.youtube.com/watch?v=zDwxGxiNFSo&t=2443s"
   ]
  },
  {
   "cell_type": "markdown",
   "id": "b6d688a3",
   "metadata": {},
   "source": [
    "https://www.kaggle.com/datasets/altruistdelhite04/loan-prediction-problem-dataset"
   ]
  },
  {
   "cell_type": "markdown",
   "id": "fa8cdef3",
   "metadata": {},
   "source": [
    "Dream Housing Finance company deals in all home loans. They have presence across all urban, semi urban and rural areas. Customer first apply for home loan after that company validates the customer eligibility for loan. Company wants to automate the loan eligibility process (real time) based on customer detail provided while filling online application form. These details are Gender, Marital Status, Education, Number of Dependents, Income, Loan Amount, Credit History and others. To automate this process, they have given a problem to identify the customers segments, those are eligible for loan amount so that they can specifically target these customers.\n",
    "\n",
    "This is a standard supervised classification task.A classification problem where we have to predict whether a loan would be approved or not. Below is the dataset attributes with description.\n",
    "\n",
    "Variable\tDescription\n",
    "Loan_ID\tUnique Loan ID\n",
    "Gender\tMale/ Female\n",
    "Married\tApplicant married (Y/N)\n",
    "Dependents\tNumber of dependents\n",
    "Education\tApplicant Education (Graduate/ Under Graduate)\n",
    "Self_Employed\tSelf employed (Y/N)\n",
    "ApplicantIncome\tApplicant income\n",
    "CoapplicantIncome\tCoapplicant income\n",
    "LoanAmount\tLoan amount in thousands\n",
    "Loan_Amount_Term\tTerm of loan in months\n",
    "Credit_History\tcredit history meets guidelines\n",
    "Property_Area\tUrban/ Semi Urban/ Rural\n",
    "Loan_Status\tLoan approved (Y/N) (target variable)"
   ]
  },
  {
   "cell_type": "markdown",
   "id": "e6329788",
   "metadata": {},
   "source": [
    "# Importing Libraries"
   ]
  },
  {
   "cell_type": "code",
   "execution_count": 1,
   "id": "ad58649c",
   "metadata": {},
   "outputs": [],
   "source": [
    "import numpy as np\n",
    "import pandas as pd\n",
    "import seaborn as sns\n",
    "import matplotlib.pyplot as plt\n",
    "%matplotlib inline\n",
    "import os\n",
    "os.getcwd()\n",
    "sns.set()\n",
    "import warnings\n",
    "warnings.filterwarnings('ignore')"
   ]
  },
  {
   "cell_type": "markdown",
   "id": "65187bf0",
   "metadata": {},
   "source": [
    "# Loading the Dataset"
   ]
  },
  {
   "cell_type": "code",
   "execution_count": 2,
   "id": "8e43e826",
   "metadata": {},
   "outputs": [],
   "source": [
    "data = pd.read_csv(\"C:\\\\Users\\\\Lenovo\\\\Desktop\\\\DA project\\\\ML Project\\\\Loan_prediction.csv\")"
   ]
  },
  {
   "cell_type": "code",
   "execution_count": 3,
   "id": "54341618",
   "metadata": {},
   "outputs": [
    {
     "data": {
      "text/html": [
       "<div>\n",
       "<style scoped>\n",
       "    .dataframe tbody tr th:only-of-type {\n",
       "        vertical-align: middle;\n",
       "    }\n",
       "\n",
       "    .dataframe tbody tr th {\n",
       "        vertical-align: top;\n",
       "    }\n",
       "\n",
       "    .dataframe thead th {\n",
       "        text-align: right;\n",
       "    }\n",
       "</style>\n",
       "<table border=\"1\" class=\"dataframe\">\n",
       "  <thead>\n",
       "    <tr style=\"text-align: right;\">\n",
       "      <th></th>\n",
       "      <th>Loan_ID</th>\n",
       "      <th>Gender</th>\n",
       "      <th>Married</th>\n",
       "      <th>Dependents</th>\n",
       "      <th>Education</th>\n",
       "      <th>Self_Employed</th>\n",
       "      <th>ApplicantIncome</th>\n",
       "      <th>CoapplicantIncome</th>\n",
       "      <th>LoanAmount</th>\n",
       "      <th>Loan_Amount_Term</th>\n",
       "      <th>Credit_History</th>\n",
       "      <th>Property_Area</th>\n",
       "      <th>Loan_Status</th>\n",
       "    </tr>\n",
       "  </thead>\n",
       "  <tbody>\n",
       "    <tr>\n",
       "      <th>0</th>\n",
       "      <td>LP001002</td>\n",
       "      <td>Male</td>\n",
       "      <td>No</td>\n",
       "      <td>0</td>\n",
       "      <td>Graduate</td>\n",
       "      <td>No</td>\n",
       "      <td>5849</td>\n",
       "      <td>0.0</td>\n",
       "      <td>NaN</td>\n",
       "      <td>360.0</td>\n",
       "      <td>1.0</td>\n",
       "      <td>Urban</td>\n",
       "      <td>Y</td>\n",
       "    </tr>\n",
       "    <tr>\n",
       "      <th>1</th>\n",
       "      <td>LP001003</td>\n",
       "      <td>Male</td>\n",
       "      <td>Yes</td>\n",
       "      <td>1</td>\n",
       "      <td>Graduate</td>\n",
       "      <td>No</td>\n",
       "      <td>4583</td>\n",
       "      <td>1508.0</td>\n",
       "      <td>128.0</td>\n",
       "      <td>360.0</td>\n",
       "      <td>1.0</td>\n",
       "      <td>Rural</td>\n",
       "      <td>N</td>\n",
       "    </tr>\n",
       "    <tr>\n",
       "      <th>2</th>\n",
       "      <td>LP001005</td>\n",
       "      <td>Male</td>\n",
       "      <td>Yes</td>\n",
       "      <td>0</td>\n",
       "      <td>Graduate</td>\n",
       "      <td>Yes</td>\n",
       "      <td>3000</td>\n",
       "      <td>0.0</td>\n",
       "      <td>66.0</td>\n",
       "      <td>360.0</td>\n",
       "      <td>1.0</td>\n",
       "      <td>Urban</td>\n",
       "      <td>Y</td>\n",
       "    </tr>\n",
       "    <tr>\n",
       "      <th>3</th>\n",
       "      <td>LP001006</td>\n",
       "      <td>Male</td>\n",
       "      <td>Yes</td>\n",
       "      <td>0</td>\n",
       "      <td>Not Graduate</td>\n",
       "      <td>No</td>\n",
       "      <td>2583</td>\n",
       "      <td>2358.0</td>\n",
       "      <td>120.0</td>\n",
       "      <td>360.0</td>\n",
       "      <td>1.0</td>\n",
       "      <td>Urban</td>\n",
       "      <td>Y</td>\n",
       "    </tr>\n",
       "    <tr>\n",
       "      <th>4</th>\n",
       "      <td>LP001008</td>\n",
       "      <td>Male</td>\n",
       "      <td>No</td>\n",
       "      <td>0</td>\n",
       "      <td>Graduate</td>\n",
       "      <td>No</td>\n",
       "      <td>6000</td>\n",
       "      <td>0.0</td>\n",
       "      <td>141.0</td>\n",
       "      <td>360.0</td>\n",
       "      <td>1.0</td>\n",
       "      <td>Urban</td>\n",
       "      <td>Y</td>\n",
       "    </tr>\n",
       "  </tbody>\n",
       "</table>\n",
       "</div>"
      ],
      "text/plain": [
       "    Loan_ID Gender Married Dependents     Education Self_Employed  \\\n",
       "0  LP001002   Male      No          0      Graduate            No   \n",
       "1  LP001003   Male     Yes          1      Graduate            No   \n",
       "2  LP001005   Male     Yes          0      Graduate           Yes   \n",
       "3  LP001006   Male     Yes          0  Not Graduate            No   \n",
       "4  LP001008   Male      No          0      Graduate            No   \n",
       "\n",
       "   ApplicantIncome  CoapplicantIncome  LoanAmount  Loan_Amount_Term  \\\n",
       "0             5849                0.0         NaN             360.0   \n",
       "1             4583             1508.0       128.0             360.0   \n",
       "2             3000                0.0        66.0             360.0   \n",
       "3             2583             2358.0       120.0             360.0   \n",
       "4             6000                0.0       141.0             360.0   \n",
       "\n",
       "   Credit_History Property_Area Loan_Status  \n",
       "0             1.0         Urban           Y  \n",
       "1             1.0         Rural           N  \n",
       "2             1.0         Urban           Y  \n",
       "3             1.0         Urban           Y  \n",
       "4             1.0         Urban           Y  "
      ]
     },
     "execution_count": 3,
     "metadata": {},
     "output_type": "execute_result"
    }
   ],
   "source": [
    "data.head()"
   ]
  },
  {
   "cell_type": "markdown",
   "id": "ee0287b2",
   "metadata": {},
   "source": [
    "# Checking some basic Statistics"
   ]
  },
  {
   "cell_type": "code",
   "execution_count": 4,
   "id": "12647d9c",
   "metadata": {
    "scrolled": true
   },
   "outputs": [
    {
     "data": {
      "text/html": [
       "<div>\n",
       "<style scoped>\n",
       "    .dataframe tbody tr th:only-of-type {\n",
       "        vertical-align: middle;\n",
       "    }\n",
       "\n",
       "    .dataframe tbody tr th {\n",
       "        vertical-align: top;\n",
       "    }\n",
       "\n",
       "    .dataframe thead th {\n",
       "        text-align: right;\n",
       "    }\n",
       "</style>\n",
       "<table border=\"1\" class=\"dataframe\">\n",
       "  <thead>\n",
       "    <tr style=\"text-align: right;\">\n",
       "      <th></th>\n",
       "      <th>ApplicantIncome</th>\n",
       "      <th>CoapplicantIncome</th>\n",
       "      <th>LoanAmount</th>\n",
       "      <th>Loan_Amount_Term</th>\n",
       "      <th>Credit_History</th>\n",
       "    </tr>\n",
       "  </thead>\n",
       "  <tbody>\n",
       "    <tr>\n",
       "      <th>count</th>\n",
       "      <td>614.000000</td>\n",
       "      <td>614.000000</td>\n",
       "      <td>592.000000</td>\n",
       "      <td>600.00000</td>\n",
       "      <td>564.000000</td>\n",
       "    </tr>\n",
       "    <tr>\n",
       "      <th>mean</th>\n",
       "      <td>5403.459283</td>\n",
       "      <td>1621.245798</td>\n",
       "      <td>146.412162</td>\n",
       "      <td>342.00000</td>\n",
       "      <td>0.842199</td>\n",
       "    </tr>\n",
       "    <tr>\n",
       "      <th>std</th>\n",
       "      <td>6109.041673</td>\n",
       "      <td>2926.248369</td>\n",
       "      <td>85.587325</td>\n",
       "      <td>65.12041</td>\n",
       "      <td>0.364878</td>\n",
       "    </tr>\n",
       "    <tr>\n",
       "      <th>min</th>\n",
       "      <td>150.000000</td>\n",
       "      <td>0.000000</td>\n",
       "      <td>9.000000</td>\n",
       "      <td>12.00000</td>\n",
       "      <td>0.000000</td>\n",
       "    </tr>\n",
       "    <tr>\n",
       "      <th>25%</th>\n",
       "      <td>2877.500000</td>\n",
       "      <td>0.000000</td>\n",
       "      <td>100.000000</td>\n",
       "      <td>360.00000</td>\n",
       "      <td>1.000000</td>\n",
       "    </tr>\n",
       "    <tr>\n",
       "      <th>50%</th>\n",
       "      <td>3812.500000</td>\n",
       "      <td>1188.500000</td>\n",
       "      <td>128.000000</td>\n",
       "      <td>360.00000</td>\n",
       "      <td>1.000000</td>\n",
       "    </tr>\n",
       "    <tr>\n",
       "      <th>75%</th>\n",
       "      <td>5795.000000</td>\n",
       "      <td>2297.250000</td>\n",
       "      <td>168.000000</td>\n",
       "      <td>360.00000</td>\n",
       "      <td>1.000000</td>\n",
       "    </tr>\n",
       "    <tr>\n",
       "      <th>max</th>\n",
       "      <td>81000.000000</td>\n",
       "      <td>41667.000000</td>\n",
       "      <td>700.000000</td>\n",
       "      <td>480.00000</td>\n",
       "      <td>1.000000</td>\n",
       "    </tr>\n",
       "  </tbody>\n",
       "</table>\n",
       "</div>"
      ],
      "text/plain": [
       "       ApplicantIncome  CoapplicantIncome  LoanAmount  Loan_Amount_Term  \\\n",
       "count       614.000000         614.000000  592.000000         600.00000   \n",
       "mean       5403.459283        1621.245798  146.412162         342.00000   \n",
       "std        6109.041673        2926.248369   85.587325          65.12041   \n",
       "min         150.000000           0.000000    9.000000          12.00000   \n",
       "25%        2877.500000           0.000000  100.000000         360.00000   \n",
       "50%        3812.500000        1188.500000  128.000000         360.00000   \n",
       "75%        5795.000000        2297.250000  168.000000         360.00000   \n",
       "max       81000.000000       41667.000000  700.000000         480.00000   \n",
       "\n",
       "       Credit_History  \n",
       "count      564.000000  \n",
       "mean         0.842199  \n",
       "std          0.364878  \n",
       "min          0.000000  \n",
       "25%          1.000000  \n",
       "50%          1.000000  \n",
       "75%          1.000000  \n",
       "max          1.000000  "
      ]
     },
     "execution_count": 4,
     "metadata": {},
     "output_type": "execute_result"
    }
   ],
   "source": [
    "data.describe()"
   ]
  },
  {
   "cell_type": "code",
   "execution_count": 5,
   "id": "23fe9e09",
   "metadata": {
    "scrolled": true
   },
   "outputs": [
    {
     "name": "stdout",
     "output_type": "stream",
     "text": [
      "<class 'pandas.core.frame.DataFrame'>\n",
      "RangeIndex: 614 entries, 0 to 613\n",
      "Data columns (total 13 columns):\n",
      " #   Column             Non-Null Count  Dtype  \n",
      "---  ------             --------------  -----  \n",
      " 0   Loan_ID            614 non-null    object \n",
      " 1   Gender             601 non-null    object \n",
      " 2   Married            611 non-null    object \n",
      " 3   Dependents         599 non-null    object \n",
      " 4   Education          614 non-null    object \n",
      " 5   Self_Employed      582 non-null    object \n",
      " 6   ApplicantIncome    614 non-null    int64  \n",
      " 7   CoapplicantIncome  614 non-null    float64\n",
      " 8   LoanAmount         592 non-null    float64\n",
      " 9   Loan_Amount_Term   600 non-null    float64\n",
      " 10  Credit_History     564 non-null    float64\n",
      " 11  Property_Area      614 non-null    object \n",
      " 12  Loan_Status        614 non-null    object \n",
      "dtypes: float64(4), int64(1), object(8)\n",
      "memory usage: 62.5+ KB\n"
     ]
    }
   ],
   "source": [
    "data.info()"
   ]
  },
  {
   "cell_type": "code",
   "execution_count": 6,
   "id": "49afe120",
   "metadata": {},
   "outputs": [],
   "source": [
    "## We can see there are null values in the dataset\n",
    "## Dependents is showing as object but there are numbers"
   ]
  },
  {
   "cell_type": "markdown",
   "id": "e7da2759",
   "metadata": {},
   "source": [
    "# Preprocesssing the data"
   ]
  },
  {
   "cell_type": "markdown",
   "id": "8ec8ca08",
   "metadata": {},
   "source": [
    "# finding the % of null values"
   ]
  },
  {
   "cell_type": "code",
   "execution_count": 7,
   "id": "fd076428",
   "metadata": {},
   "outputs": [
    {
     "data": {
      "text/plain": [
       "Loan_ID              0.000000\n",
       "Gender               2.117264\n",
       "Married              0.488599\n",
       "Dependents           2.442997\n",
       "Education            0.000000\n",
       "Self_Employed        5.211726\n",
       "ApplicantIncome      0.000000\n",
       "CoapplicantIncome    0.000000\n",
       "LoanAmount           3.583062\n",
       "Loan_Amount_Term     2.280130\n",
       "Credit_History       8.143322\n",
       "Property_Area        0.000000\n",
       "Loan_Status          0.000000\n",
       "dtype: float64"
      ]
     },
     "execution_count": 7,
     "metadata": {},
     "output_type": "execute_result"
    }
   ],
   "source": [
    "data.isnull().sum()/len(data)*100"
   ]
  },
  {
   "cell_type": "code",
   "execution_count": 8,
   "id": "187590a1",
   "metadata": {},
   "outputs": [],
   "source": [
    "# Checking for Dupplicate Records"
   ]
  },
  {
   "cell_type": "code",
   "execution_count": 9,
   "id": "0ec1c35e",
   "metadata": {},
   "outputs": [
    {
     "data": {
      "text/plain": [
       "False"
      ]
     },
     "execution_count": 9,
     "metadata": {},
     "output_type": "execute_result"
    }
   ],
   "source": [
    "data.duplicated().any()"
   ]
  },
  {
   "cell_type": "markdown",
   "id": "2bc0429c",
   "metadata": {},
   "source": [
    "# Checking for outliers before missing value imputation"
   ]
  },
  {
   "cell_type": "code",
   "execution_count": 10,
   "id": "d5b2f5c4",
   "metadata": {
    "scrolled": false
   },
   "outputs": [
    {
     "data": {
      "image/png": "[encoded data removed]",
      "text/plain": [
       "<Figure size 640x480 with 1 Axes>"
      ]
     },
     "metadata": {},
     "output_type": "display_data"
    },
    {
     "data": {
      "image/png": "[encoded data removed]",
      "text/plain": [
       "<Figure size 640x480 with 1 Axes>"
      ]
     },
     "metadata": {},
     "output_type": "display_data"
    },
    {
     "data": {
      "image/png": "[encoded data removed]",
      "text/plain": [
       "<Figure size 640x480 with 1 Axes>"
      ]
     },
     "metadata": {},
     "output_type": "display_data"
    },
    {
     "data": {
      "image/png": "[encoded data removed]",
      "text/plain": [
       "<Figure size 640x480 with 1 Axes>"
      ]
     },
     "metadata": {},
     "output_type": "display_data"
    },
    {
     "data": {
      "image/png": "[encoded data removed]",
      "text/plain": [
       "<Figure size 640x480 with 1 Axes>"
      ]
     },
     "metadata": {},
     "output_type": "display_data"
    }
   ],
   "source": [
    "def boxplot(col):\n",
    "    sns.boxplot(data[col])\n",
    "    plt.show()\n",
    "for i in list(data.select_dtypes(exclude= [\"object\"]).columns):\n",
    "    boxplot(i)"
   ]
  },
  {
   "cell_type": "code",
   "execution_count": 11,
   "id": "3b0c3dfe",
   "metadata": {},
   "outputs": [],
   "source": [
    "# Income of applicant varies which is possible so i would considers there are no outliers"
   ]
  },
  {
   "cell_type": "code",
   "execution_count": 12,
   "id": "49f69701",
   "metadata": {},
   "outputs": [
    {
     "data": {
      "text/plain": [
       "0     345\n",
       "1     102\n",
       "2     101\n",
       "3+     51\n",
       "Name: Dependents, dtype: int64"
      ]
     },
     "execution_count": 12,
     "metadata": {},
     "output_type": "execute_result"
    }
   ],
   "source": [
    "data[\"Dependents\"].value_counts()"
   ]
  },
  {
   "cell_type": "code",
   "execution_count": 13,
   "id": "817c2c3e",
   "metadata": {},
   "outputs": [
    {
     "data": {
      "text/plain": [
       "array(['0', '1', '2', '3+', nan], dtype=object)"
      ]
     },
     "execution_count": 13,
     "metadata": {},
     "output_type": "execute_result"
    }
   ],
   "source": [
    "data[\"Dependents\"].unique()"
   ]
  },
  {
   "cell_type": "markdown",
   "id": "fc1597fe",
   "metadata": {},
   "source": [
    "# Missing Value Imputation"
   ]
  },
  {
   "cell_type": "code",
   "execution_count": 14,
   "id": "37476852",
   "metadata": {
    "scrolled": true
   },
   "outputs": [
    {
     "data": {
      "text/plain": [
       "Loan_ID               0\n",
       "Gender               13\n",
       "Married               3\n",
       "Dependents           15\n",
       "Education             0\n",
       "Self_Employed        32\n",
       "ApplicantIncome       0\n",
       "CoapplicantIncome     0\n",
       "LoanAmount           22\n",
       "Loan_Amount_Term     14\n",
       "Credit_History       50\n",
       "Property_Area         0\n",
       "Loan_Status           0\n",
       "dtype: int64"
      ]
     },
     "execution_count": 14,
     "metadata": {},
     "output_type": "execute_result"
    }
   ],
   "source": [
    "data.isnull().sum()"
   ]
  },
  {
   "cell_type": "markdown",
   "id": "06ac3f7d",
   "metadata": {},
   "source": [
    "# Missing Value Imputation of Numerical Data"
   ]
  },
  {
   "cell_type": "code",
   "execution_count": 15,
   "id": "53cf2a2e",
   "metadata": {
    "scrolled": true
   },
   "outputs": [
    {
     "data": {
      "text/plain": [
       "1.0    475\n",
       "0.0     89\n",
       "Name: Credit_History, dtype: int64"
      ]
     },
     "execution_count": 15,
     "metadata": {},
     "output_type": "execute_result"
    }
   ],
   "source": [
    "data[\"Credit_History\"].value_counts()"
   ]
  },
  {
   "cell_type": "code",
   "execution_count": 16,
   "id": "f31241fd",
   "metadata": {},
   "outputs": [],
   "source": [
    "data[\"Credit_History\"]=data[\"Credit_History\"].fillna(data[\"Credit_History\"].mode()[0])\n",
    "data[\"Loan_Amount_Term\"]=data[\"Loan_Amount_Term\"].fillna(data[\"Loan_Amount_Term\"].mode()[0])\n",
    "data[\"LoanAmount\"]=data[\"LoanAmount\"].fillna(data[\"LoanAmount\"].median())"
   ]
  },
  {
   "cell_type": "code",
   "execution_count": 17,
   "id": "09342450",
   "metadata": {},
   "outputs": [
    {
     "data": {
      "text/plain": [
       "360.0    526\n",
       "180.0     44\n",
       "480.0     15\n",
       "300.0     13\n",
       "240.0      4\n",
       "84.0       4\n",
       "120.0      3\n",
       "60.0       2\n",
       "36.0       2\n",
       "12.0       1\n",
       "Name: Loan_Amount_Term, dtype: int64"
      ]
     },
     "execution_count": 17,
     "metadata": {},
     "output_type": "execute_result"
    }
   ],
   "source": [
    "data[\"Loan_Amount_Term\"].value_counts()"
   ]
  },
  {
   "cell_type": "code",
   "execution_count": 18,
   "id": "3871b006",
   "metadata": {},
   "outputs": [
    {
     "data": {
      "text/plain": [
       "128.0    33\n",
       "120.0    20\n",
       "110.0    17\n",
       "100.0    15\n",
       "160.0    12\n",
       "         ..\n",
       "240.0     1\n",
       "214.0     1\n",
       "59.0      1\n",
       "166.0     1\n",
       "253.0     1\n",
       "Name: LoanAmount, Length: 203, dtype: int64"
      ]
     },
     "execution_count": 18,
     "metadata": {},
     "output_type": "execute_result"
    }
   ],
   "source": [
    "data[\"LoanAmount\"].value_counts()        "
   ]
  },
  {
   "cell_type": "markdown",
   "id": "dcb27df0",
   "metadata": {},
   "source": []
  },
  {
   "cell_type": "markdown",
   "id": "b9220a41",
   "metadata": {},
   "source": [
    "# Missing Value Imputation of Categorical Data"
   ]
  },
  {
   "cell_type": "code",
   "execution_count": 19,
   "id": "e7886a6b",
   "metadata": {},
   "outputs": [
    {
     "data": {
      "text/plain": [
       "'Male'"
      ]
     },
     "execution_count": 19,
     "metadata": {},
     "output_type": "execute_result"
    }
   ],
   "source": [
    "data[\"Gender\"].mode()[0] # it returns dataframe so we input 0 to pick the value"
   ]
  },
  {
   "cell_type": "code",
   "execution_count": 20,
   "id": "62e60951",
   "metadata": {},
   "outputs": [],
   "source": [
    "data[\"Gender\"]=data[\"Gender\"].fillna(data[\"Gender\"].mode()[0])\n",
    "data[\"Married\"]=data[\"Married\"].fillna(data[\"Married\"].mode()[0])\n",
    "data[\"Dependents\"]=data[\"Dependents\"].fillna(data[\"Dependents\"].mode()[0])\n",
    "data[\"Self_Employed\"]=data[\"Self_Employed\"].fillna(data[\"Self_Employed\"].mode()[0])"
   ]
  },
  {
   "cell_type": "code",
   "execution_count": 21,
   "id": "31b27368",
   "metadata": {
    "scrolled": true
   },
   "outputs": [
    {
     "data": {
      "text/plain": [
       "Loan_ID              0\n",
       "Gender               0\n",
       "Married              0\n",
       "Dependents           0\n",
       "Education            0\n",
       "Self_Employed        0\n",
       "ApplicantIncome      0\n",
       "CoapplicantIncome    0\n",
       "LoanAmount           0\n",
       "Loan_Amount_Term     0\n",
       "Credit_History       0\n",
       "Property_Area        0\n",
       "Loan_Status          0\n",
       "dtype: int64"
      ]
     },
     "execution_count": 21,
     "metadata": {},
     "output_type": "execute_result"
    }
   ],
   "source": [
    "data.isnull().sum()"
   ]
  },
  {
   "cell_type": "markdown",
   "id": "af72deb2",
   "metadata": {},
   "source": [
    "# Exploratory Data Analysis"
   ]
  },
  {
   "cell_type": "code",
   "execution_count": 22,
   "id": "3ed4e693",
   "metadata": {},
   "outputs": [],
   "source": [
    "# Univariate Analysis"
   ]
  },
  {
   "cell_type": "code",
   "execution_count": 23,
   "id": "b09a47ec",
   "metadata": {},
   "outputs": [
    {
     "data": {
      "text/plain": [
       "<AxesSubplot:xlabel='Gender', ylabel='count'>"
      ]
     },
     "execution_count": 23,
     "metadata": {},
     "output_type": "execute_result"
    },
    {
     "data": {
      "image/png": "[encoded data removed]",
      "text/plain": [
       "<Figure size 640x480 with 1 Axes>"
      ]
     },
     "metadata": {},
     "output_type": "display_data"
    }
   ],
   "source": [
    "sns.countplot(data[\"Gender\"])"
   ]
  },
  {
   "cell_type": "code",
   "execution_count": 24,
   "id": "5f57bbf1",
   "metadata": {},
   "outputs": [],
   "source": [
    "    # Majority of applicants are male and small portion are female"
   ]
  },
  {
   "cell_type": "code",
   "execution_count": 25,
   "id": "3f7cd4fd",
   "metadata": {},
   "outputs": [
    {
     "data": {
      "text/plain": [
       "<AxesSubplot:xlabel='Married', ylabel='count'>"
      ]
     },
     "execution_count": 25,
     "metadata": {},
     "output_type": "execute_result"
    },
    {
     "data": {
      "image/png": "[encoded data removed]",
      "text/plain": [
       "<Figure size 640x480 with 1 Axes>"
      ]
     },
     "metadata": {},
     "output_type": "display_data"
    }
   ],
   "source": [
    "sns.countplot(data[\"Married\"])\n"
   ]
  },
  {
   "cell_type": "code",
   "execution_count": 26,
   "id": "3876c5ec",
   "metadata": {},
   "outputs": [],
   "source": [
    "#Majority of applicants are married"
   ]
  },
  {
   "cell_type": "code",
   "execution_count": 27,
   "id": "0dfceb9a",
   "metadata": {},
   "outputs": [
    {
     "data": {
      "text/plain": [
       "<AxesSubplot:xlabel='Education', ylabel='count'>"
      ]
     },
     "execution_count": 27,
     "metadata": {},
     "output_type": "execute_result"
    },
    {
     "data": {
      "image/png": "[encoded data removed]",
      "text/plain": [
       "<Figure size 640x480 with 1 Axes>"
      ]
     },
     "metadata": {},
     "output_type": "display_data"
    }
   ],
   "source": [
    "sns.countplot(data[\"Education\"])"
   ]
  },
  {
   "cell_type": "code",
   "execution_count": 28,
   "id": "0936c78a",
   "metadata": {},
   "outputs": [],
   "source": [
    "# Majority of applicants in the data are graduate"
   ]
  },
  {
   "cell_type": "code",
   "execution_count": 29,
   "id": "b52e5f88",
   "metadata": {},
   "outputs": [
    {
     "data": {
      "text/plain": [
       "<AxesSubplot:ylabel='Dependents'>"
      ]
     },
     "execution_count": 29,
     "metadata": {},
     "output_type": "execute_result"
    },
    {
     "data": {
      "image/png": "[encoded data removed]",
      "text/plain": [
       "<Figure size 640x480 with 1 Axes>"
      ]
     },
     "metadata": {},
     "output_type": "display_data"
    }
   ],
   "source": [
    "data[\"Dependents\"].value_counts().plot(kind=\"pie\",autopct = \"%1.1f%%\")\n"
   ]
  },
  {
   "cell_type": "code",
   "execution_count": 30,
   "id": "38a74109",
   "metadata": {},
   "outputs": [],
   "source": [
    "# 58.6% of Loan applicants are not having any dependents"
   ]
  },
  {
   "cell_type": "code",
   "execution_count": 31,
   "id": "64c918f7",
   "metadata": {},
   "outputs": [
    {
     "data": {
      "text/plain": [
       "Index(['Loan_ID', 'Gender', 'Married', 'Dependents', 'Education',\n",
       "       'Self_Employed', 'ApplicantIncome', 'CoapplicantIncome', 'LoanAmount',\n",
       "       'Loan_Amount_Term', 'Credit_History', 'Property_Area', 'Loan_Status'],\n",
       "      dtype='object')"
      ]
     },
     "execution_count": 31,
     "metadata": {},
     "output_type": "execute_result"
    }
   ],
   "source": [
    "data.columns"
   ]
  },
  {
   "cell_type": "code",
   "execution_count": 32,
   "id": "c1f9df9e",
   "metadata": {},
   "outputs": [
    {
     "data": {
      "text/plain": [
       "<AxesSubplot:xlabel='Self_Employed', ylabel='count'>"
      ]
     },
     "execution_count": 32,
     "metadata": {},
     "output_type": "execute_result"
    },
    {
     "data": {
      "image/png": "[encoded data removed]",
      "text/plain": [
       "<Figure size 640x480 with 1 Axes>"
      ]
     },
     "metadata": {},
     "output_type": "display_data"
    }
   ],
   "source": [
    "sns.countplot(data[\"Self_Employed\"])"
   ]
  },
  {
   "cell_type": "code",
   "execution_count": 33,
   "id": "0adc35b1",
   "metadata": {},
   "outputs": [],
   "source": [
    "# Majority of applicant who have applied for loan are not self employed"
   ]
  },
  {
   "cell_type": "code",
   "execution_count": 34,
   "id": "215af2e4",
   "metadata": {},
   "outputs": [
    {
     "data": {
      "text/plain": [
       "<AxesSubplot:ylabel='Property_Area'>"
      ]
     },
     "execution_count": 34,
     "metadata": {},
     "output_type": "execute_result"
    },
    {
     "data": {
      "image/png": "[encoded data removed]",
      "text/plain": [
       "<Figure size 640x480 with 1 Axes>"
      ]
     },
     "metadata": {},
     "output_type": "display_data"
    }
   ],
   "source": [
    "data[\"Property_Area\"].value_counts().plot(kind=\"pie\",autopct = \"%1.1f%%\")"
   ]
  },
  {
   "cell_type": "code",
   "execution_count": 35,
   "id": "287c7f88",
   "metadata": {},
   "outputs": [],
   "source": [
    "# Around 37.9% of applicants are from Semi Urban Area"
   ]
  },
  {
   "cell_type": "code",
   "execution_count": 36,
   "id": "a89f2cf5",
   "metadata": {},
   "outputs": [
    {
     "data": {
      "text/plain": [
       "Index(['Loan_ID', 'Gender', 'Married', 'Dependents', 'Education',\n",
       "       'Self_Employed', 'ApplicantIncome', 'CoapplicantIncome', 'LoanAmount',\n",
       "       'Loan_Amount_Term', 'Credit_History', 'Property_Area', 'Loan_Status'],\n",
       "      dtype='object')"
      ]
     },
     "execution_count": 36,
     "metadata": {},
     "output_type": "execute_result"
    }
   ],
   "source": [
    "data.columns"
   ]
  },
  {
   "cell_type": "markdown",
   "id": "3596a1e4",
   "metadata": {},
   "source": [
    "# Bivariate Analysis"
   ]
  },
  {
   "cell_type": "code",
   "execution_count": 37,
   "id": "0120aaf1",
   "metadata": {},
   "outputs": [
    {
     "data": {
      "text/plain": [
       "<AxesSubplot:xlabel='Gender', ylabel='LoanAmount'>"
      ]
     },
     "execution_count": 37,
     "metadata": {},
     "output_type": "execute_result"
    },
    {
     "data": {
      "image/png": "[encoded data removed]",
      "text/plain": [
       "<Figure size 640x480 with 1 Axes>"
      ]
     },
     "metadata": {},
     "output_type": "display_data"
    }
   ],
   "source": [
    "sns.barplot(x=\"Gender\",y=\"LoanAmount\", hue=\"Loan_Status\", data=data)"
   ]
  },
  {
   "cell_type": "code",
   "execution_count": 38,
   "id": "f228e5ac",
   "metadata": {},
   "outputs": [
    {
     "data": {
      "text/plain": [
       "<AxesSubplot:xlabel='Education', ylabel='LoanAmount'>"
      ]
     },
     "execution_count": 38,
     "metadata": {},
     "output_type": "execute_result"
    },
    {
     "data": {
      "image/png": "[encoded data removed]",
      "text/plain": [
       "<Figure size 640x480 with 1 Axes>"
      ]
     },
     "metadata": {},
     "output_type": "display_data"
    }
   ],
   "source": [
    "sns.barplot(x=\"Education\",y=\"LoanAmount\", hue=\"Loan_Status\", data=data)"
   ]
  },
  {
   "cell_type": "code",
   "execution_count": 39,
   "id": "5d454c69",
   "metadata": {},
   "outputs": [
    {
     "data": {
      "text/plain": [
       "<AxesSubplot:xlabel='Dependents', ylabel='LoanAmount'>"
      ]
     },
     "execution_count": 39,
     "metadata": {},
     "output_type": "execute_result"
    },
    {
     "data": {
      "image/png": "[encoded data removed]",
      "text/plain": [
       "<Figure size 640x480 with 1 Axes>"
      ]
     },
     "metadata": {},
     "output_type": "display_data"
    }
   ],
   "source": [
    "sns.barplot(x=\"Dependents\",y=\"LoanAmount\", hue=\"Loan_Status\", data=data)"
   ]
  },
  {
   "cell_type": "code",
   "execution_count": 40,
   "id": "18726ddb",
   "metadata": {},
   "outputs": [
    {
     "data": {
      "text/plain": [
       "<AxesSubplot:xlabel='Married', ylabel='LoanAmount'>"
      ]
     },
     "execution_count": 40,
     "metadata": {},
     "output_type": "execute_result"
    },
    {
     "data": {
      "image/png": "[encoded data removed]",
      "text/plain": [
       "<Figure size 640x480 with 1 Axes>"
      ]
     },
     "metadata": {},
     "output_type": "display_data"
    }
   ],
   "source": [
    "sns.barplot(x=\"Married\",y=\"LoanAmount\", hue=\"Loan_Status\", data=data)"
   ]
  },
  {
   "cell_type": "code",
   "execution_count": 41,
   "id": "4ffe28c5",
   "metadata": {},
   "outputs": [
    {
     "data": {
      "text/plain": [
       "Index(['Loan_ID', 'Gender', 'Married', 'Dependents', 'Education',\n",
       "       'Self_Employed', 'ApplicantIncome', 'CoapplicantIncome', 'LoanAmount',\n",
       "       'Loan_Amount_Term', 'Credit_History', 'Property_Area', 'Loan_Status'],\n",
       "      dtype='object')"
      ]
     },
     "execution_count": 41,
     "metadata": {},
     "output_type": "execute_result"
    }
   ],
   "source": [
    "data.columns"
   ]
  },
  {
   "cell_type": "code",
   "execution_count": 42,
   "id": "c016cb22",
   "metadata": {},
   "outputs": [
    {
     "data": {
      "text/plain": [
       "<AxesSubplot:xlabel='Credit_History', ylabel='LoanAmount'>"
      ]
     },
     "execution_count": 42,
     "metadata": {},
     "output_type": "execute_result"
    },
    {
     "data": {
      "image/png": "[encoded data removed]",
      "text/plain": [
       "<Figure size 640x480 with 1 Axes>"
      ]
     },
     "metadata": {},
     "output_type": "display_data"
    }
   ],
   "source": [
    "sns.scatterplot(x= \"Credit_History\", y=\"LoanAmount\",data=data)"
   ]
  },
  {
   "cell_type": "code",
   "execution_count": 43,
   "id": "8ce0a8ab",
   "metadata": {
    "scrolled": true
   },
   "outputs": [
    {
     "data": {
      "text/plain": [
       "<AxesSubplot:xlabel='ApplicantIncome', ylabel='LoanAmount'>"
      ]
     },
     "execution_count": 43,
     "metadata": {},
     "output_type": "execute_result"
    },
    {
     "data": {
      "image/png": "[encoded data removed]",
      "text/plain": [
       "<Figure size 640x480 with 1 Axes>"
      ]
     },
     "metadata": {},
     "output_type": "display_data"
    }
   ],
   "source": [
    "sns.scatterplot(x= \"ApplicantIncome\", y=\"LoanAmount\",data=data)"
   ]
  },
  {
   "cell_type": "code",
   "execution_count": 44,
   "id": "6247ca11",
   "metadata": {},
   "outputs": [],
   "source": [
    "# There is no correlation between applicant income and Loan amount"
   ]
  },
  {
   "cell_type": "markdown",
   "id": "bdd465b6",
   "metadata": {},
   "source": [
    "# Feature Construction"
   ]
  },
  {
   "cell_type": "code",
   "execution_count": 45,
   "id": "20e82818",
   "metadata": {},
   "outputs": [
    {
     "data": {
      "text/plain": [
       "0      5849.0\n",
       "1      6091.0\n",
       "2      3000.0\n",
       "3      4941.0\n",
       "4      6000.0\n",
       "        ...  \n",
       "609    2900.0\n",
       "610    4106.0\n",
       "611    8312.0\n",
       "612    7583.0\n",
       "613    4583.0\n",
       "Name: Total_Income, Length: 614, dtype: float64"
      ]
     },
     "execution_count": 45,
     "metadata": {},
     "output_type": "execute_result"
    }
   ],
   "source": [
    "data[\"Total_Income\"]=data[\"ApplicantIncome\"]+data[\"CoapplicantIncome\"]\n",
    "data[\"Total_Income\"]"
   ]
  },
  {
   "cell_type": "markdown",
   "id": "25abc7df",
   "metadata": {},
   "source": [
    "# Corelation Matrix"
   ]
  },
  {
   "cell_type": "code",
   "execution_count": 46,
   "id": "d1da87dd",
   "metadata": {},
   "outputs": [
    {
     "data": {
      "text/plain": [
       "<AxesSubplot:>"
      ]
     },
     "execution_count": 46,
     "metadata": {},
     "output_type": "execute_result"
    },
    {
     "data": {
      "image/png": "[encoded data removed]",
      "text/plain": [
       "<Figure size 1000x1000 with 2 Axes>"
      ]
     },
     "metadata": {},
     "output_type": "display_data"
    }
   ],
   "source": [
    "plt.figure(figsize=(10,10))\n",
    "corr=  data.corr()\n",
    "sns.heatmap(corr,annot= True,cmap = \"rainbow\")"
   ]
  },
  {
   "cell_type": "code",
   "execution_count": 47,
   "id": "bbc2d493",
   "metadata": {},
   "outputs": [],
   "source": [
    "cols = [\"ApplicantIncome\",\"CoapplicantIncome\",\"Loan_ID\"]\n",
    "\n",
    "data=data.drop(columns=cols,axis=1)"
   ]
  },
  {
   "cell_type": "code",
   "execution_count": 48,
   "id": "7ff8a4ba",
   "metadata": {},
   "outputs": [],
   "source": [
    "# cols = [\"Loan_ID\"]\n",
    "\n",
    "# data=data.drop(columns=cols,axis=1)"
   ]
  },
  {
   "cell_type": "code",
   "execution_count": 49,
   "id": "c327a101",
   "metadata": {},
   "outputs": [],
   "source": [
    "data[\"Dependents\"]= data[\"Dependents\"].replace(to_replace=\"3+\",value=\"4\").astype(\"int\")"
   ]
  },
  {
   "cell_type": "code",
   "execution_count": 50,
   "id": "974a857b",
   "metadata": {},
   "outputs": [
    {
     "data": {
      "text/plain": [
       "0    360\n",
       "1    102\n",
       "2    101\n",
       "4     51\n",
       "Name: Dependents, dtype: int64"
      ]
     },
     "execution_count": 50,
     "metadata": {},
     "output_type": "execute_result"
    }
   ],
   "source": [
    "data[\"Dependents\"].value_counts()"
   ]
  },
  {
   "cell_type": "markdown",
   "id": "7e2cda5e",
   "metadata": {},
   "source": [
    "# Encoding"
   ]
  },
  {
   "cell_type": "markdown",
   "id": "08ac70d4",
   "metadata": {},
   "source": [
    "Label encoding  transformer should be used to encode target values, i.e. y, and not the input X."
   ]
  },
  {
   "cell_type": "code",
   "execution_count": 51,
   "id": "104600aa",
   "metadata": {},
   "outputs": [],
   "source": [
    "data[\"Gender\"]=data[\"Gender\"].map({\"Male\":1,\"Female\":0}).astype(\"int\")\n",
    "data[\"Married\"]=data[\"Married\"].map({\"Yes\":1,\"No\":0}).astype(\"int\")\n",
    "data[\"Education\"]=data[\"Education\"].map({\"Graduate\":1,\"Not Graduate\":0}).astype(\"int\")\n",
    "data[\"Self_Employed\"]=data[\"Self_Employed\"].map({\"Yes\":1,\"No\":0}).astype(\"int\")\n",
    "data[\"Property_Area\"]=data[\"Property_Area\"].map({\"Rural\":0,\"Urban\":1,\"Semiurban\":2}).astype(\"int\")"
   ]
  },
  {
   "cell_type": "code",
   "execution_count": 52,
   "id": "773e93b5",
   "metadata": {
    "scrolled": true
   },
   "outputs": [
    {
     "data": {
      "text/plain": [
       "Y    422\n",
       "N    192\n",
       "Name: Loan_Status, dtype: int64"
      ]
     },
     "execution_count": 52,
     "metadata": {},
     "output_type": "execute_result"
    }
   ],
   "source": [
    "data[\"Loan_Status\"].value_counts()"
   ]
  },
  {
   "cell_type": "markdown",
   "id": "afef1992",
   "metadata": {},
   "source": [
    "# Label Encoding on Feature Variables"
   ]
  },
  {
   "cell_type": "code",
   "execution_count": 53,
   "id": "283ac919",
   "metadata": {},
   "outputs": [],
   "source": [
    "from sklearn.preprocessing import LabelEncoder\n",
    "le = LabelEncoder()\n",
    "data[\"Loan_Status\"]=le.fit_transform(data[\"Loan_Status\"])"
   ]
  },
  {
   "cell_type": "code",
   "execution_count": 54,
   "id": "647a1da1",
   "metadata": {},
   "outputs": [],
   "source": [
    "# data[\"Loan_Status\"]=data[\"Loan_Status\"].map({\"Y\":1,\"N\":0}).astype(\"int\")"
   ]
  },
  {
   "cell_type": "code",
   "execution_count": 55,
   "id": "c4c294c9",
   "metadata": {},
   "outputs": [
    {
     "data": {
      "text/html": [
       "<div>\n",
       "<style scoped>\n",
       "    .dataframe tbody tr th:only-of-type {\n",
       "        vertical-align: middle;\n",
       "    }\n",
       "\n",
       "    .dataframe tbody tr th {\n",
       "        vertical-align: top;\n",
       "    }\n",
       "\n",
       "    .dataframe thead th {\n",
       "        text-align: right;\n",
       "    }\n",
       "</style>\n",
       "<table border=\"1\" class=\"dataframe\">\n",
       "  <thead>\n",
       "    <tr style=\"text-align: right;\">\n",
       "      <th></th>\n",
       "      <th>Gender</th>\n",
       "      <th>Married</th>\n",
       "      <th>Dependents</th>\n",
       "      <th>Education</th>\n",
       "      <th>Self_Employed</th>\n",
       "      <th>LoanAmount</th>\n",
       "      <th>Loan_Amount_Term</th>\n",
       "      <th>Credit_History</th>\n",
       "      <th>Property_Area</th>\n",
       "      <th>Loan_Status</th>\n",
       "      <th>Total_Income</th>\n",
       "    </tr>\n",
       "  </thead>\n",
       "  <tbody>\n",
       "    <tr>\n",
       "      <th>0</th>\n",
       "      <td>1</td>\n",
       "      <td>0</td>\n",
       "      <td>0</td>\n",
       "      <td>1</td>\n",
       "      <td>0</td>\n",
       "      <td>128.0</td>\n",
       "      <td>360.0</td>\n",
       "      <td>1.0</td>\n",
       "      <td>1</td>\n",
       "      <td>1</td>\n",
       "      <td>5849.0</td>\n",
       "    </tr>\n",
       "    <tr>\n",
       "      <th>1</th>\n",
       "      <td>1</td>\n",
       "      <td>1</td>\n",
       "      <td>1</td>\n",
       "      <td>1</td>\n",
       "      <td>0</td>\n",
       "      <td>128.0</td>\n",
       "      <td>360.0</td>\n",
       "      <td>1.0</td>\n",
       "      <td>0</td>\n",
       "      <td>0</td>\n",
       "      <td>6091.0</td>\n",
       "    </tr>\n",
       "    <tr>\n",
       "      <th>2</th>\n",
       "      <td>1</td>\n",
       "      <td>1</td>\n",
       "      <td>0</td>\n",
       "      <td>1</td>\n",
       "      <td>1</td>\n",
       "      <td>66.0</td>\n",
       "      <td>360.0</td>\n",
       "      <td>1.0</td>\n",
       "      <td>1</td>\n",
       "      <td>1</td>\n",
       "      <td>3000.0</td>\n",
       "    </tr>\n",
       "    <tr>\n",
       "      <th>3</th>\n",
       "      <td>1</td>\n",
       "      <td>1</td>\n",
       "      <td>0</td>\n",
       "      <td>0</td>\n",
       "      <td>0</td>\n",
       "      <td>120.0</td>\n",
       "      <td>360.0</td>\n",
       "      <td>1.0</td>\n",
       "      <td>1</td>\n",
       "      <td>1</td>\n",
       "      <td>4941.0</td>\n",
       "    </tr>\n",
       "    <tr>\n",
       "      <th>4</th>\n",
       "      <td>1</td>\n",
       "      <td>0</td>\n",
       "      <td>0</td>\n",
       "      <td>1</td>\n",
       "      <td>0</td>\n",
       "      <td>141.0</td>\n",
       "      <td>360.0</td>\n",
       "      <td>1.0</td>\n",
       "      <td>1</td>\n",
       "      <td>1</td>\n",
       "      <td>6000.0</td>\n",
       "    </tr>\n",
       "  </tbody>\n",
       "</table>\n",
       "</div>"
      ],
      "text/plain": [
       "   Gender  Married  Dependents  Education  Self_Employed  LoanAmount  \\\n",
       "0       1        0           0          1              0       128.0   \n",
       "1       1        1           1          1              0       128.0   \n",
       "2       1        1           0          1              1        66.0   \n",
       "3       1        1           0          0              0       120.0   \n",
       "4       1        0           0          1              0       141.0   \n",
       "\n",
       "   Loan_Amount_Term  Credit_History  Property_Area  Loan_Status  Total_Income  \n",
       "0             360.0             1.0              1            1        5849.0  \n",
       "1             360.0             1.0              0            0        6091.0  \n",
       "2             360.0             1.0              1            1        3000.0  \n",
       "3             360.0             1.0              1            1        4941.0  \n",
       "4             360.0             1.0              1            1        6000.0  "
      ]
     },
     "execution_count": 55,
     "metadata": {},
     "output_type": "execute_result"
    }
   ],
   "source": [
    "data.head()"
   ]
  },
  {
   "cell_type": "markdown",
   "id": "fdf2302b",
   "metadata": {},
   "source": [
    "# Split data into x and response (target) in vector y "
   ]
  },
  {
   "cell_type": "code",
   "execution_count": 56,
   "id": "4e635798",
   "metadata": {},
   "outputs": [],
   "source": [
    "x= data.drop(\"Loan_Status\", axis = 1)\n",
    "y = data[\"Loan_Status\"]"
   ]
  },
  {
   "cell_type": "code",
   "execution_count": 57,
   "id": "96f0e43b",
   "metadata": {},
   "outputs": [
    {
     "data": {
      "text/html": [
       "<div>\n",
       "<style scoped>\n",
       "    .dataframe tbody tr th:only-of-type {\n",
       "        vertical-align: middle;\n",
       "    }\n",
       "\n",
       "    .dataframe tbody tr th {\n",
       "        vertical-align: top;\n",
       "    }\n",
       "\n",
       "    .dataframe thead th {\n",
       "        text-align: right;\n",
       "    }\n",
       "</style>\n",
       "<table border=\"1\" class=\"dataframe\">\n",
       "  <thead>\n",
       "    <tr style=\"text-align: right;\">\n",
       "      <th></th>\n",
       "      <th>Gender</th>\n",
       "      <th>Married</th>\n",
       "      <th>Dependents</th>\n",
       "      <th>Education</th>\n",
       "      <th>Self_Employed</th>\n",
       "      <th>LoanAmount</th>\n",
       "      <th>Loan_Amount_Term</th>\n",
       "      <th>Credit_History</th>\n",
       "      <th>Property_Area</th>\n",
       "      <th>Total_Income</th>\n",
       "    </tr>\n",
       "  </thead>\n",
       "  <tbody>\n",
       "    <tr>\n",
       "      <th>0</th>\n",
       "      <td>1</td>\n",
       "      <td>0</td>\n",
       "      <td>0</td>\n",
       "      <td>1</td>\n",
       "      <td>0</td>\n",
       "      <td>128.0</td>\n",
       "      <td>360.0</td>\n",
       "      <td>1.0</td>\n",
       "      <td>1</td>\n",
       "      <td>5849.0</td>\n",
       "    </tr>\n",
       "    <tr>\n",
       "      <th>1</th>\n",
       "      <td>1</td>\n",
       "      <td>1</td>\n",
       "      <td>1</td>\n",
       "      <td>1</td>\n",
       "      <td>0</td>\n",
       "      <td>128.0</td>\n",
       "      <td>360.0</td>\n",
       "      <td>1.0</td>\n",
       "      <td>0</td>\n",
       "      <td>6091.0</td>\n",
       "    </tr>\n",
       "    <tr>\n",
       "      <th>2</th>\n",
       "      <td>1</td>\n",
       "      <td>1</td>\n",
       "      <td>0</td>\n",
       "      <td>1</td>\n",
       "      <td>1</td>\n",
       "      <td>66.0</td>\n",
       "      <td>360.0</td>\n",
       "      <td>1.0</td>\n",
       "      <td>1</td>\n",
       "      <td>3000.0</td>\n",
       "    </tr>\n",
       "    <tr>\n",
       "      <th>3</th>\n",
       "      <td>1</td>\n",
       "      <td>1</td>\n",
       "      <td>0</td>\n",
       "      <td>0</td>\n",
       "      <td>0</td>\n",
       "      <td>120.0</td>\n",
       "      <td>360.0</td>\n",
       "      <td>1.0</td>\n",
       "      <td>1</td>\n",
       "      <td>4941.0</td>\n",
       "    </tr>\n",
       "    <tr>\n",
       "      <th>4</th>\n",
       "      <td>1</td>\n",
       "      <td>0</td>\n",
       "      <td>0</td>\n",
       "      <td>1</td>\n",
       "      <td>0</td>\n",
       "      <td>141.0</td>\n",
       "      <td>360.0</td>\n",
       "      <td>1.0</td>\n",
       "      <td>1</td>\n",
       "      <td>6000.0</td>\n",
       "    </tr>\n",
       "  </tbody>\n",
       "</table>\n",
       "</div>"
      ],
      "text/plain": [
       "   Gender  Married  Dependents  Education  Self_Employed  LoanAmount  \\\n",
       "0       1        0           0          1              0       128.0   \n",
       "1       1        1           1          1              0       128.0   \n",
       "2       1        1           0          1              1        66.0   \n",
       "3       1        1           0          0              0       120.0   \n",
       "4       1        0           0          1              0       141.0   \n",
       "\n",
       "   Loan_Amount_Term  Credit_History  Property_Area  Total_Income  \n",
       "0             360.0             1.0              1        5849.0  \n",
       "1             360.0             1.0              0        6091.0  \n",
       "2             360.0             1.0              1        3000.0  \n",
       "3             360.0             1.0              1        4941.0  \n",
       "4             360.0             1.0              1        6000.0  "
      ]
     },
     "execution_count": 57,
     "metadata": {},
     "output_type": "execute_result"
    }
   ],
   "source": [
    "x.head()"
   ]
  },
  {
   "cell_type": "code",
   "execution_count": 58,
   "id": "31354b6e",
   "metadata": {
    "scrolled": true
   },
   "outputs": [
    {
     "data": {
      "text/plain": [
       "0    1\n",
       "1    0\n",
       "2    1\n",
       "3    1\n",
       "4    1\n",
       "Name: Loan_Status, dtype: int32"
      ]
     },
     "execution_count": 58,
     "metadata": {},
     "output_type": "execute_result"
    }
   ],
   "source": [
    "y.head()"
   ]
  },
  {
   "cell_type": "code",
   "execution_count": 59,
   "id": "1cf0fd09",
   "metadata": {
    "scrolled": true
   },
   "outputs": [
    {
     "name": "stdout",
     "output_type": "stream",
     "text": [
      "1    69.0\n",
      "0    31.0\n",
      "Name: Loan_Status, dtype: float64 2\n"
     ]
    }
   ],
   "source": [
    "print(round(y.value_counts(normalize = True)*100),2)"
   ]
  },
  {
   "cell_type": "code",
   "execution_count": 60,
   "id": "5a0b8e0f",
   "metadata": {},
   "outputs": [],
   "source": [
    "# One Hot Encoding\n",
    "\n",
    "# x_new = pd.get_dummies(x)"
   ]
  },
  {
   "cell_type": "code",
   "execution_count": 61,
   "id": "deb277cf",
   "metadata": {},
   "outputs": [],
   "source": [
    "# x_new.shape"
   ]
  },
  {
   "cell_type": "markdown",
   "id": "219cc4ed",
   "metadata": {},
   "source": [
    "# Spliting data into Train Test Split"
   ]
  },
  {
   "cell_type": "code",
   "execution_count": 62,
   "id": "1e02554e",
   "metadata": {},
   "outputs": [],
   "source": [
    "from sklearn.model_selection import train_test_split"
   ]
  },
  {
   "cell_type": "code",
   "execution_count": 63,
   "id": "bd153236",
   "metadata": {},
   "outputs": [
    {
     "name": "stdout",
     "output_type": "stream",
     "text": [
      "(491, 10)\n",
      "(123, 10)\n"
     ]
    }
   ],
   "source": [
    "x_train,x_test,y_train,y_test=train_test_split(x,y,test_size=0.20,stratify=y, random_state=42)\n",
    "\n",
    "print(x_train.shape)\n",
    "print(x_test.shape)"
   ]
  },
  {
   "cell_type": "markdown",
   "id": "46ec9cc2",
   "metadata": {},
   "source": [
    "# Feature Scaling\n",
    "\n",
    "- It is essential for ml algo that calculate distances. if not normalised feature with higher range starts dominating when calculating distances . Distance Algo that reqiure scaling are knn,nn,svm,lineer and logistic\n",
    "\n",
    "- Nonn distance algo DT RF adaboost,navie bayes\n",
    "    "
   ]
  },
  {
   "cell_type": "code",
   "execution_count": 64,
   "id": "34878872",
   "metadata": {},
   "outputs": [],
   "source": [
    "from sklearn.preprocessing import StandardScaler\n",
    "from sklearn.preprocessing import MinMaxScaler\n",
    "from sklearn.model_selection import cross_val_score\n",
    "from sklearn.metrics import accuracy_score\n",
    "from sklearn.metrics import confusion_matrix,classification_report\n",
    "from sklearn.metrics import roc_curve,auc"
   ]
  },
  {
   "cell_type": "code",
   "execution_count": 65,
   "id": "cd0d412f",
   "metadata": {},
   "outputs": [],
   "source": [
    "# norm = MinMaxScaler()\n",
    "# x_train = norm.fit_transform(x_train)\n",
    "# x_test = norm.transform(x_test)"
   ]
  },
  {
   "cell_type": "code",
   "execution_count": 66,
   "id": "b519e200",
   "metadata": {},
   "outputs": [],
   "source": [
    "\n",
    "sc= StandardScaler()\n",
    "\n",
    "x_train= sc.fit_transform(x_train)\n",
    "x_test = sc.transform(x_test)"
   ]
  },
  {
   "cell_type": "code",
   "execution_count": 67,
   "id": "986f54c6",
   "metadata": {},
   "outputs": [],
   "source": [
    "model_df={}\n",
    "def model_val(model,x_train,y_train):\n",
    "    model.fit(x_train,y_train)\n",
    "    y_pred=model.predict(x_test)\n",
    "    print(f\"{model} test accuracy is {round(accuracy_score(y_test,y_pred),2)}\")\n",
    "    \n",
    "    train_score=cross_val_score(model,x_train,y_train,cv=5)\n",
    "    test_score=cross_val_score(model,x_test,y_test,cv=5)\n",
    "    print(f\"{model} Avg cross val training score is {np.mean(train_score)}\")\n",
    "    print(f\"{model} Avg cross val testing score is {np.mean(test_score)}\")\n",
    "    model_df[model]=round(np.mean(test_score)*100,2)\n",
    "    print(\"Average % test accuracy\",model_df[model])\n",
    "    print (\"Confusion Matrix\")\n",
    "    print(confusion_matrix(y_test,y_pred))\n",
    "    print (\"Classification Report\")\n",
    "    print(classification_report(y_test,y_pred))\n",
    "#     fpr,tpr,threshold=roc_curve(y_test,y_pred)\n",
    "#     auc_curve =auc(fpr,tpr)\n",
    "#     plt.plot(fpr,tpr,marker=\".\",label=\"Model(auc=%0.3f)\"%auc_curve)"
   ]
  },
  {
   "cell_type": "code",
   "execution_count": 68,
   "id": "d21dd5cd",
   "metadata": {},
   "outputs": [],
   "source": [
    "# Logistic Regression\n",
    "\n",
    "from sklearn.linear_model import LogisticRegression"
   ]
  },
  {
   "cell_type": "code",
   "execution_count": 69,
   "id": "b5944b8d",
   "metadata": {},
   "outputs": [
    {
     "name": "stdout",
     "output_type": "stream",
     "text": [
      "LogisticRegression() test accuracy is 0.85\n",
      "LogisticRegression() Avg cross val training score is 0.7983714698000413\n",
      "LogisticRegression() Avg cross val testing score is 0.8373333333333333\n",
      "Average % test accuracy 83.73\n",
      "Confusion Matrix\n",
      "[[21 17]\n",
      " [ 1 84]]\n",
      "Classification Report\n",
      "              precision    recall  f1-score   support\n",
      "\n",
      "           0       0.95      0.55      0.70        38\n",
      "           1       0.83      0.99      0.90        85\n",
      "\n",
      "    accuracy                           0.85       123\n",
      "   macro avg       0.89      0.77      0.80       123\n",
      "weighted avg       0.87      0.85      0.84       123\n",
      "\n"
     ]
    }
   ],
   "source": [
    "log = LogisticRegression()\n",
    "\n",
    "model_val(log,x_train,y_train)"
   ]
  },
  {
   "cell_type": "code",
   "execution_count": 70,
   "id": "d6068313",
   "metadata": {
    "scrolled": true
   },
   "outputs": [
    {
     "name": "stdout",
     "output_type": "stream",
     "text": [
      "LogisticRegression(C=0.0635981828628378, multi_class='multinomial',\n",
      "                   solver='sag') test accuracy is 0.85\n",
      "LogisticRegression(C=0.0635981828628378, multi_class='multinomial',\n",
      "                   solver='sag') Avg cross val training score is 0.7983714698000413\n",
      "LogisticRegression(C=0.0635981828628378, multi_class='multinomial',\n",
      "                   solver='sag') Avg cross val testing score is 0.8536666666666667\n",
      "Average % test accuracy 85.37\n",
      "Confusion Matrix\n",
      "[[21 17]\n",
      " [ 1 84]]\n",
      "Classification Report\n",
      "              precision    recall  f1-score   support\n",
      "\n",
      "           0       0.95      0.55      0.70        38\n",
      "           1       0.83      0.99      0.90        85\n",
      "\n",
      "    accuracy                           0.85       123\n",
      "   macro avg       0.89      0.77      0.80       123\n",
      "weighted avg       0.87      0.85      0.84       123\n",
      "\n"
     ]
    }
   ],
   "source": [
    "log = LogisticRegression(solver ='sag', penalty= 'l2', C= 0.06359818286283781, multi_class=\"multinomial\")\n",
    "\n",
    "model_val(log,x_train,y_train)"
   ]
  },
  {
   "cell_type": "code",
   "execution_count": 71,
   "id": "e4b59e9c",
   "metadata": {},
   "outputs": [],
   "source": [
    "# SVC"
   ]
  },
  {
   "cell_type": "code",
   "execution_count": 72,
   "id": "b9ff010e",
   "metadata": {},
   "outputs": [
    {
     "name": "stdout",
     "output_type": "stream",
     "text": [
      "SVC() test accuracy is 0.85\n",
      "SVC() Avg cross val training score is 0.7902494331065759\n",
      "SVC() Avg cross val testing score is 0.8213333333333332\n",
      "Average % test accuracy 82.13\n",
      "Confusion Matrix\n",
      "[[20 18]\n",
      " [ 1 84]]\n",
      "Classification Report\n",
      "              precision    recall  f1-score   support\n",
      "\n",
      "           0       0.95      0.53      0.68        38\n",
      "           1       0.82      0.99      0.90        85\n",
      "\n",
      "    accuracy                           0.85       123\n",
      "   macro avg       0.89      0.76      0.79       123\n",
      "weighted avg       0.86      0.85      0.83       123\n",
      "\n"
     ]
    }
   ],
   "source": [
    "from sklearn import svm\n",
    "svc = svm.SVC()\n",
    "model_val(svc,x_train,y_train)"
   ]
  },
  {
   "cell_type": "code",
   "execution_count": 73,
   "id": "e0f02235",
   "metadata": {},
   "outputs": [],
   "source": [
    "# Decission Tree Classifier"
   ]
  },
  {
   "cell_type": "code",
   "execution_count": 74,
   "id": "06dad247",
   "metadata": {},
   "outputs": [
    {
     "name": "stdout",
     "output_type": "stream",
     "text": [
      "DecisionTreeClassifier() test accuracy is 0.74\n",
      "DecisionTreeClassifier() Avg cross val training score is 0.6578231292517007\n",
      "DecisionTreeClassifier() Avg cross val testing score is 0.7483333333333334\n",
      "Average % test accuracy 74.83\n",
      "Confusion Matrix\n",
      "[[27 11]\n",
      " [21 64]]\n",
      "Classification Report\n",
      "              precision    recall  f1-score   support\n",
      "\n",
      "           0       0.56      0.71      0.63        38\n",
      "           1       0.85      0.75      0.80        85\n",
      "\n",
      "    accuracy                           0.74       123\n",
      "   macro avg       0.71      0.73      0.71       123\n",
      "weighted avg       0.76      0.74      0.75       123\n",
      "\n"
     ]
    }
   ],
   "source": [
    "from sklearn.tree import DecisionTreeClassifier\n",
    "\n",
    "dt = DecisionTreeClassifier()\n",
    "model_val(dt,x_train,y_train)"
   ]
  },
  {
   "cell_type": "code",
   "execution_count": 75,
   "id": "3bc1d938",
   "metadata": {},
   "outputs": [],
   "source": [
    "# Random Forest Classifier"
   ]
  },
  {
   "cell_type": "code",
   "execution_count": 76,
   "id": "50e41af0",
   "metadata": {},
   "outputs": [],
   "source": [
    "from sklearn.ensemble import RandomForestClassifier"
   ]
  },
  {
   "cell_type": "code",
   "execution_count": 77,
   "id": "4da55f67",
   "metadata": {},
   "outputs": [
    {
     "name": "stdout",
     "output_type": "stream",
     "text": [
      "RandomForestClassifier() test accuracy is 0.82\n",
      "RandomForestClassifier() Avg cross val training score is 0.7596165739022881\n",
      "RandomForestClassifier() Avg cross val testing score is 0.8210000000000001\n",
      "Average % test accuracy 82.1\n",
      "Confusion Matrix\n",
      "[[23 15]\n",
      " [ 7 78]]\n",
      "Classification Report\n",
      "              precision    recall  f1-score   support\n",
      "\n",
      "           0       0.77      0.61      0.68        38\n",
      "           1       0.84      0.92      0.88        85\n",
      "\n",
      "    accuracy                           0.82       123\n",
      "   macro avg       0.80      0.76      0.78       123\n",
      "weighted avg       0.82      0.82      0.81       123\n",
      "\n"
     ]
    }
   ],
   "source": [
    "rf=RandomForestClassifier()\n",
    "model_val(rf,x_train,y_train)"
   ]
  },
  {
   "cell_type": "code",
   "execution_count": 78,
   "id": "05449ed1",
   "metadata": {},
   "outputs": [
    {
     "name": "stdout",
     "output_type": "stream",
     "text": [
      "RandomForestClassifier(criterion='entropy', n_estimators=500) test accuracy is 0.82\n",
      "RandomForestClassifier(criterion='entropy', n_estimators=500) Avg cross val training score is 0.7759224902082045\n",
      "RandomForestClassifier(criterion='entropy', n_estimators=500) Avg cross val testing score is 0.8456666666666667\n",
      "Average % test accuracy 84.57\n",
      "Confusion Matrix\n",
      "[[23 15]\n",
      " [ 7 78]]\n",
      "Classification Report\n",
      "              precision    recall  f1-score   support\n",
      "\n",
      "           0       0.77      0.61      0.68        38\n",
      "           1       0.84      0.92      0.88        85\n",
      "\n",
      "    accuracy                           0.82       123\n",
      "   macro avg       0.80      0.76      0.78       123\n",
      "weighted avg       0.82      0.82      0.81       123\n",
      "\n"
     ]
    }
   ],
   "source": [
    "rf=RandomForestClassifier(n_estimators=500,criterion='entropy',max_features=\"auto\")\n",
    "model_val(rf,x_train,y_train)\n"
   ]
  },
  {
   "cell_type": "code",
   "execution_count": 79,
   "id": "5a628990",
   "metadata": {},
   "outputs": [],
   "source": [
    "# Gradient Boosting Classifier"
   ]
  },
  {
   "cell_type": "code",
   "execution_count": 80,
   "id": "ba4c8af0",
   "metadata": {},
   "outputs": [],
   "source": [
    "from sklearn.ensemble import GradientBoostingClassifier"
   ]
  },
  {
   "cell_type": "code",
   "execution_count": 81,
   "id": "9ab48a57",
   "metadata": {},
   "outputs": [
    {
     "name": "stdout",
     "output_type": "stream",
     "text": [
      "GradientBoostingClassifier() test accuracy is 0.83\n",
      "GradientBoostingClassifier() Avg cross val training score is 0.7576169861884148\n",
      "GradientBoostingClassifier() Avg cross val testing score is 0.8293333333333333\n",
      "Average % test accuracy 82.93\n",
      "Confusion Matrix\n",
      "[[22 16]\n",
      " [ 5 80]]\n",
      "Classification Report\n",
      "              precision    recall  f1-score   support\n",
      "\n",
      "           0       0.81      0.58      0.68        38\n",
      "           1       0.83      0.94      0.88        85\n",
      "\n",
      "    accuracy                           0.83       123\n",
      "   macro avg       0.82      0.76      0.78       123\n",
      "weighted avg       0.83      0.83      0.82       123\n",
      "\n"
     ]
    }
   ],
   "source": [
    "gbc = GradientBoostingClassifier()\n",
    "model_val(gbc,x_train,y_train)"
   ]
  },
  {
   "cell_type": "code",
   "execution_count": 82,
   "id": "39e6007a",
   "metadata": {},
   "outputs": [],
   "source": [
    "from sklearn.naive_bayes import GaussianNB"
   ]
  },
  {
   "cell_type": "code",
   "execution_count": 83,
   "id": "a854128d",
   "metadata": {
    "scrolled": false
   },
   "outputs": [
    {
     "name": "stdout",
     "output_type": "stream",
     "text": [
      "GaussianNB() test accuracy is 0.85\n",
      "GaussianNB() Avg cross val training score is 0.7820861678004535\n",
      "GaussianNB() Avg cross val testing score is 0.8373333333333333\n",
      "Average % test accuracy 83.73\n",
      "Confusion Matrix\n",
      "[[22 16]\n",
      " [ 2 83]]\n",
      "Classification Report\n",
      "              precision    recall  f1-score   support\n",
      "\n",
      "           0       0.92      0.58      0.71        38\n",
      "           1       0.84      0.98      0.90        85\n",
      "\n",
      "    accuracy                           0.85       123\n",
      "   macro avg       0.88      0.78      0.81       123\n",
      "weighted avg       0.86      0.85      0.84       123\n",
      "\n"
     ]
    }
   ],
   "source": [
    "gb=GaussianNB()\n",
    "model_val(gb,x_train,y_train)"
   ]
  },
  {
   "cell_type": "code",
   "execution_count": 84,
   "id": "1a5acba1",
   "metadata": {},
   "outputs": [
    {
     "name": "stdout",
     "output_type": "stream",
     "text": [
      "GaussianNB(var_smoothing=0.1) test accuracy is 0.85\n",
      "GaussianNB(var_smoothing=0.1) Avg cross val training score is 0.786147186147186\n",
      "GaussianNB(var_smoothing=0.1) Avg cross val testing score is 0.8373333333333333\n",
      "Average % test accuracy 83.73\n",
      "Confusion Matrix\n",
      "[[22 16]\n",
      " [ 2 83]]\n",
      "Classification Report\n",
      "              precision    recall  f1-score   support\n",
      "\n",
      "           0       0.92      0.58      0.71        38\n",
      "           1       0.84      0.98      0.90        85\n",
      "\n",
      "    accuracy                           0.85       123\n",
      "   macro avg       0.88      0.78      0.81       123\n",
      "weighted avg       0.86      0.85      0.84       123\n",
      "\n"
     ]
    }
   ],
   "source": [
    "gb=GaussianNB(var_smoothing=0.1)\n",
    "model_val(gb,x_train,y_train)"
   ]
  },
  {
   "cell_type": "code",
   "execution_count": 85,
   "id": "ac85657c",
   "metadata": {},
   "outputs": [
    {
     "name": "stdout",
     "output_type": "stream",
     "text": [
      "KNeighborsClassifier(n_jobs=20, p=8) test accuracy is 0.85\n",
      "KNeighborsClassifier(n_jobs=20, p=8) Avg cross val training score is 0.7821480107194393\n",
      "KNeighborsClassifier(n_jobs=20, p=8) Avg cross val testing score is 0.8290000000000001\n",
      "Average % test accuracy 82.9\n",
      "Confusion Matrix\n",
      "[[23 15]\n",
      " [ 3 82]]\n",
      "Classification Report\n",
      "              precision    recall  f1-score   support\n",
      "\n",
      "           0       0.88      0.61      0.72        38\n",
      "           1       0.85      0.96      0.90        85\n",
      "\n",
      "    accuracy                           0.85       123\n",
      "   macro avg       0.86      0.78      0.81       123\n",
      "weighted avg       0.86      0.85      0.84       123\n",
      "\n"
     ]
    }
   ],
   "source": [
    "from sklearn.neighbors import KNeighborsClassifier\n",
    "\n",
    "knn= KNeighborsClassifier(p=8,n_jobs = 20)\n",
    "model_val(knn,x_train,y_train)"
   ]
  },
  {
   "cell_type": "code",
   "execution_count": 86,
   "id": "d79e9ca4",
   "metadata": {},
   "outputs": [
    {
     "name": "stdout",
     "output_type": "stream",
     "text": [
      "AdaBoostClassifier(algorithm='SAMME', learning_rate=0.01, n_estimators=500) test accuracy is 0.85\n",
      "AdaBoostClassifier(algorithm='SAMME', learning_rate=0.01, n_estimators=500) Avg cross val training score is 0.7983714698000413\n",
      "AdaBoostClassifier(algorithm='SAMME', learning_rate=0.01, n_estimators=500) Avg cross val testing score is 0.8536666666666667\n",
      "Average % test accuracy 85.37\n",
      "Confusion Matrix\n",
      "[[21 17]\n",
      " [ 1 84]]\n",
      "Classification Report\n",
      "              precision    recall  f1-score   support\n",
      "\n",
      "           0       0.95      0.55      0.70        38\n",
      "           1       0.83      0.99      0.90        85\n",
      "\n",
      "    accuracy                           0.85       123\n",
      "   macro avg       0.89      0.77      0.80       123\n",
      "weighted avg       0.87      0.85      0.84       123\n",
      "\n"
     ]
    }
   ],
   "source": [
    "from sklearn.ensemble import AdaBoostClassifier\n",
    "\n",
    "ad = AdaBoostClassifier(n_estimators=500,learning_rate=0.01,algorithm ='SAMME')\n",
    "model_val(ad,x_train,y_train)"
   ]
  },
  {
   "cell_type": "code",
   "execution_count": 87,
   "id": "d797c69f",
   "metadata": {},
   "outputs": [
    {
     "data": {
      "text/plain": [
       "{LogisticRegression(): 83.73,\n",
       " LogisticRegression(C=0.0635981828628378, multi_class='multinomial',\n",
       "                    solver='sag'): 85.37,\n",
       " SVC(): 82.13,\n",
       " DecisionTreeClassifier(): 74.83,\n",
       " RandomForestClassifier(): 82.1,\n",
       " RandomForestClassifier(criterion='entropy', n_estimators=500): 84.57,\n",
       " GradientBoostingClassifier(): 82.93,\n",
       " GaussianNB(): 83.73,\n",
       " GaussianNB(var_smoothing=0.1): 83.73,\n",
       " KNeighborsClassifier(n_jobs=20, p=8): 82.9,\n",
       " AdaBoostClassifier(algorithm='SAMME', learning_rate=0.01, n_estimators=500): 85.37}"
      ]
     },
     "execution_count": 87,
     "metadata": {},
     "output_type": "execute_result"
    }
   ],
   "source": [
    "model_df"
   ]
  },
  {
   "cell_type": "markdown",
   "id": "440b3d3c",
   "metadata": {},
   "source": [
    "\n",
    "\n",
    "# Hyperparameter Tuning\n",
    "\n",
    "- in ml there are two types of parameters:\n",
    "    \n",
    "- Model Param : model learns this parameters during training phase. these are model  parameters eg linear y=mx+c so it learns these params\n",
    "    \n",
    "- hyper param : These are adjustable para that must be tuned to obtain optimal results. To find best results using search cv"
   ]
  },
  {
   "cell_type": "code",
   "execution_count": 157,
   "id": "5fde345d",
   "metadata": {},
   "outputs": [],
   "source": [
    "# from sklearn.model_selection import GridSearchCV\n",
    "\n",
    "# param = {\"var_smoothing\":np.logspace(0,-9,num=100)}\n",
    "# grid_search=GridSearchCV(estimator=GaussianNB(),param_grid=param,n_jobs =-1,cv=10,scoring=\"accuracy\")\n",
    "# grid_search.fit(x_train,y_train)"
   ]
  },
  {
   "cell_type": "code",
   "execution_count": 154,
   "id": "dcfa15dd",
   "metadata": {},
   "outputs": [],
   "source": [
    "# grid_scores = grid_search.cv_results_\n",
    "# grid_scores"
   ]
  },
  {
   "cell_type": "code",
   "execution_count": 153,
   "id": "931cd386",
   "metadata": {},
   "outputs": [],
   "source": [
    "# pd.DataFrame(grid_scores)"
   ]
  },
  {
   "cell_type": "code",
   "execution_count": 155,
   "id": "5e6294b8",
   "metadata": {},
   "outputs": [],
   "source": [
    "#grid_search.best_params_"
   ]
  },
  {
   "cell_type": "code",
   "execution_count": 156,
   "id": "fd16cdfa",
   "metadata": {},
   "outputs": [],
   "source": [
    "# LogisticRegression().get_params()"
   ]
  },
  {
   "cell_type": "code",
   "execution_count": 97,
   "id": "7cb291d8",
   "metadata": {},
   "outputs": [],
   "source": [
    "# from sklearn.model_selection import RandomizedSearchCV\n",
    "\n",
    "# log_reg={\"C\":np.logspace(-4,4,20),\n",
    "#         \"penalty\" : ['l1', 'l2', 'elasticnet', 'none'],\n",
    "#          \"solver\" : ['newton-cg', 'lbfgs', 'liblinear', 'sag', 'saga'],\n",
    "#          \"multi_class\" : ['auto', 'ovr', 'multinomial']\n",
    "#         }\n",
    "\n",
    "# Log_rs= RandomizedSearchCV(LogisticRegression(),param_distributions=log_reg,n_iter=20, cv=5,verbose=True)\n",
    "# Log_rs.fit(x_train,y_train)"
   ]
  },
  {
   "cell_type": "code",
   "execution_count": 100,
   "id": "4736fd87",
   "metadata": {},
   "outputs": [
    {
     "data": {
      "text/plain": [
       "0.8003916718202433"
      ]
     },
     "execution_count": 100,
     "metadata": {},
     "output_type": "execute_result"
    }
   ],
   "source": [
    "# Log_rs.best_score_"
   ]
  },
  {
   "cell_type": "code",
   "execution_count": 101,
   "id": "8e596891",
   "metadata": {
    "scrolled": false
   },
   "outputs": [
    {
     "data": {
      "text/plain": [
       "{'solver': 'sag',\n",
       " 'penalty': 'l2',\n",
       " 'multi_class': 'auto',\n",
       " 'C': 3792.690190732246}"
      ]
     },
     "execution_count": 101,
     "metadata": {},
     "output_type": "execute_result"
    }
   ],
   "source": [
    "# Log_rs.best_params_"
   ]
  },
  {
   "cell_type": "markdown",
   "id": "55e791f6",
   "metadata": {},
   "source": [
    "# AdaBoost"
   ]
  },
  {
   "cell_type": "code",
   "execution_count": 151,
   "id": "9bfb191f",
   "metadata": {},
   "outputs": [],
   "source": [
    "# params = {\"n_estimators\": [int(x)for x in np.linspace(start=200,stop = 2000,num=10)],\n",
    "#             \"learning_rate\":[0.0001,0.001,0.01,0.1,1.0],\n",
    "#             \"algorithm\" : ['SAMME', 'SAMME.R'],\n",
    "#             \"random_state\":[None,1,23,45,67,78,87]\n",
    "#          }\n",
    "    \n",
    "# adboost = AdaBoostClassifier()\n",
    "# rscv = RandomizedSearchCV(estimator=adboost,\n",
    "#                          param_distributions=params,\n",
    "#                          n_iter = 25,\n",
    "#                          cv=5,\n",
    "#                          verbose=1)\n",
    "\n",
    "# rscv.fit(x_train,y_train)\n",
    "# y_pred_tuned= rscv.predict(x_test)"
   ]
  },
  {
   "cell_type": "code",
   "execution_count": 152,
   "id": "7727eebb",
   "metadata": {
    "scrolled": true
   },
   "outputs": [],
   "source": [
    "# rscv.best_params_"
   ]
  },
  {
   "cell_type": "markdown",
   "id": "591abee7",
   "metadata": {},
   "source": [
    "# Balancing the Imbalanced Data"
   ]
  },
  {
   "cell_type": "markdown",
   "id": "e941136c",
   "metadata": {},
   "source": [
    "- The recall of the minority class in very less. It proves that the model is more biased towards majority class. So, it proves that this is not the best model.\n",
    "- We will apply imbalanced data handling techniques and see their accuracy and recall results."
   ]
  },
  {
   "cell_type": "code",
   "execution_count": null,
   "id": "482922fe",
   "metadata": {},
   "outputs": [],
   "source": []
  },
  {
   "cell_type": "code",
   "execution_count": 106,
   "id": "062702ca",
   "metadata": {},
   "outputs": [
    {
     "name": "stdout",
     "output_type": "stream",
     "text": [
      "1    69.0\n",
      "0    31.0\n",
      "Name: Loan_Status, dtype: float64 2\n"
     ]
    }
   ],
   "source": [
    "print(round(y.value_counts(normalize = True)*100),2)"
   ]
  },
  {
   "cell_type": "code",
   "execution_count": 108,
   "id": "3ecd2a53",
   "metadata": {},
   "outputs": [
    {
     "name": "stdout",
     "output_type": "stream",
     "text": [
      "(614, 10)\n"
     ]
    },
    {
     "data": {
      "text/plain": [
       "(614,)"
      ]
     },
     "execution_count": 108,
     "metadata": {},
     "output_type": "execute_result"
    }
   ],
   "source": [
    "from imblearn.over_sampling import SMOTE\n",
    "sm = SMOTE(random_state = 2) \n",
    "x_res,y_res= sm.fit_resample(x,y)\n",
    "\n",
    "print(x.shape)\n",
    "y.shape"
   ]
  },
  {
   "cell_type": "code",
   "execution_count": 109,
   "id": "d5668e60",
   "metadata": {},
   "outputs": [
    {
     "data": {
      "text/plain": [
       "1    422\n",
       "0    422\n",
       "Name: Loan_Status, dtype: int64"
      ]
     },
     "execution_count": 109,
     "metadata": {},
     "output_type": "execute_result"
    }
   ],
   "source": [
    "y_res.value_counts()"
   ]
  },
  {
   "cell_type": "code",
   "execution_count": 110,
   "id": "27358825",
   "metadata": {},
   "outputs": [
    {
     "name": "stdout",
     "output_type": "stream",
     "text": [
      "(675, 10)\n",
      "(169, 10)\n"
     ]
    }
   ],
   "source": [
    "x_train,x_test,y_train,y_test=train_test_split(x_res,y_res,test_size=0.20,random_state=43)\n",
    "\n",
    "print(x_train.shape)\n",
    "print(x_test.shape)"
   ]
  },
  {
   "cell_type": "code",
   "execution_count": 111,
   "id": "1b9d1222",
   "metadata": {},
   "outputs": [],
   "source": [
    "from sklearn.preprocessing import StandardScaler\n",
    "from sklearn.model_selection import cross_val_score\n",
    "from sklearn.metrics import accuracy_score\n",
    "from sklearn.metrics import confusion_matrix,classification_report\n",
    "from sklearn.metrics import roc_curve,auc"
   ]
  },
  {
   "cell_type": "code",
   "execution_count": 112,
   "id": "8e61a137",
   "metadata": {},
   "outputs": [],
   "source": [
    "sc= StandardScaler()\n",
    "\n",
    "x_train= sc.fit_transform(x_train)\n",
    "x_test = sc.transform(x_test)"
   ]
  },
  {
   "cell_type": "code",
   "execution_count": 113,
   "id": "174931cf",
   "metadata": {},
   "outputs": [],
   "source": [
    "model_df={}\n",
    "def model_val(model,x_train,y_train):\n",
    "    model.fit(x_train,y_train)\n",
    "    y_pred=model.predict(x_test)\n",
    "    print(f\"{model} test accuracy is {round(accuracy_score(y_test,y_pred),2)}\")\n",
    "\n",
    "    \n",
    "    train_score=cross_val_score(model,x_train,y_train,cv=10)\n",
    "    test_score=cross_val_score(model,x_test,y_test,cv=5)\n",
    "    print(f\"{model} Avg cross val training score is {np.mean(train_score)}\")\n",
    "    print(f\"{model} Avg cross val testing score is {np.mean(test_score)}\")\n",
    "    model_df[model]=round(np.mean(test_score)*100,2)\n",
    "    print(\"Average % test accuracy\",model_df[model])\n",
    "    print (\"Confusion Matrix\")\n",
    "    print(confusion_matrix(y_test,y_pred))\n",
    "    print (\"Classification Report\")\n",
    "    print(classification_report(y_test,y_pred))"
   ]
  },
  {
   "cell_type": "code",
   "execution_count": 114,
   "id": "3e2ca1c5",
   "metadata": {},
   "outputs": [
    {
     "name": "stdout",
     "output_type": "stream",
     "text": [
      "LogisticRegression() test accuracy is 0.82\n",
      "LogisticRegression() Avg cross val training score is 0.7793020193151887\n",
      "LogisticRegression() Avg cross val testing score is 0.7877005347593583\n",
      "Average % test accuracy 78.77\n",
      "Confusion Matrix\n",
      "[[63 22]\n",
      " [ 9 75]]\n",
      "Classification Report\n",
      "              precision    recall  f1-score   support\n",
      "\n",
      "           0       0.88      0.74      0.80        85\n",
      "           1       0.77      0.89      0.83        84\n",
      "\n",
      "    accuracy                           0.82       169\n",
      "   macro avg       0.82      0.82      0.82       169\n",
      "weighted avg       0.82      0.82      0.82       169\n",
      "\n"
     ]
    }
   ],
   "source": [
    "from sklearn.linear_model import LogisticRegression\n",
    "\n",
    "log = LogisticRegression()\n",
    "\n",
    "model_val(log,x_train,y_train)"
   ]
  },
  {
   "cell_type": "code",
   "execution_count": 115,
   "id": "9d380f54",
   "metadata": {},
   "outputs": [
    {
     "name": "stdout",
     "output_type": "stream",
     "text": [
      "SVC() test accuracy is 0.82\n",
      "SVC() Avg cross val training score is 0.7939640035118524\n",
      "SVC() Avg cross val testing score is 0.7932263814616756\n",
      "Average % test accuracy 79.32\n",
      "Confusion Matrix\n",
      "[[62 23]\n",
      " [ 8 76]]\n",
      "Classification Report\n",
      "              precision    recall  f1-score   support\n",
      "\n",
      "           0       0.89      0.73      0.80        85\n",
      "           1       0.77      0.90      0.83        84\n",
      "\n",
      "    accuracy                           0.82       169\n",
      "   macro avg       0.83      0.82      0.82       169\n",
      "weighted avg       0.83      0.82      0.82       169\n",
      "\n"
     ]
    }
   ],
   "source": [
    "from sklearn import svm\n",
    "svc = svm.SVC()\n",
    "model_val(svc,x_train,y_train)"
   ]
  },
  {
   "cell_type": "code",
   "execution_count": 117,
   "id": "6ad1b71f",
   "metadata": {},
   "outputs": [
    {
     "name": "stdout",
     "output_type": "stream",
     "text": [
      "RandomForestClassifier() test accuracy is 0.83\n",
      "RandomForestClassifier() Avg cross val training score is 0.8294995610184372\n",
      "RandomForestClassifier() Avg cross val testing score is 0.7928698752228163\n",
      "Average % test accuracy 79.29\n",
      "Confusion Matrix\n",
      "[[69 16]\n",
      " [13 71]]\n",
      "Classification Report\n",
      "              precision    recall  f1-score   support\n",
      "\n",
      "           0       0.84      0.81      0.83        85\n",
      "           1       0.82      0.85      0.83        84\n",
      "\n",
      "    accuracy                           0.83       169\n",
      "   macro avg       0.83      0.83      0.83       169\n",
      "weighted avg       0.83      0.83      0.83       169\n",
      "\n"
     ]
    }
   ],
   "source": [
    "from sklearn.ensemble import RandomForestClassifier\n",
    "rf=RandomForestClassifier()\n",
    "model_val(rf,x_train,y_train)"
   ]
  },
  {
   "cell_type": "code",
   "execution_count": 118,
   "id": "4782b374",
   "metadata": {},
   "outputs": [
    {
     "name": "stdout",
     "output_type": "stream",
     "text": [
      "GradientBoostingClassifier() test accuracy is 0.81\n",
      "GradientBoostingClassifier() Avg cross val training score is 0.825153643546971\n",
      "GradientBoostingClassifier() Avg cross val testing score is 0.8404634581105169\n",
      "Average % test accuracy 84.05\n",
      "Confusion Matrix\n",
      "[[63 22]\n",
      " [10 74]]\n",
      "Classification Report\n",
      "              precision    recall  f1-score   support\n",
      "\n",
      "           0       0.86      0.74      0.80        85\n",
      "           1       0.77      0.88      0.82        84\n",
      "\n",
      "    accuracy                           0.81       169\n",
      "   macro avg       0.82      0.81      0.81       169\n",
      "weighted avg       0.82      0.81      0.81       169\n",
      "\n"
     ]
    }
   ],
   "source": [
    "from sklearn.ensemble import GradientBoostingClassifier\n",
    "gbc = GradientBoostingClassifier()\n",
    "model_val(gbc,x_train,y_train)"
   ]
  },
  {
   "cell_type": "code",
   "execution_count": 150,
   "id": "0363decc",
   "metadata": {},
   "outputs": [
    {
     "name": "stdout",
     "output_type": "stream",
     "text": [
      "XGBClassifier(base_score=None, booster=None, callbacks=None,\n",
      "              colsample_bylevel=0.4, colsample_bynode=None,\n",
      "              colsample_bytree=0.9, early_stopping_rounds=None,\n",
      "              enable_categorical=False, eval_metric=None, feature_types=None,\n",
      "              gamma=None, gpu_id=None, grow_policy=None, importance_type=None,\n",
      "              interaction_constraints=None, learning_rate=0.01, max_bin=None,\n",
      "              max_cat_threshold=None, max_cat_to_onehot=None,\n",
      "              max_delta_step=None, max_depth=10, max_leaves=None,\n",
      "              min_child_weight=None, missing=nan, monotone_constraints=None,\n",
      "              n_estimators=500, n_jobs=None, num_parallel_tree=None,\n",
      "              predictor=None, random_state=None, ...) test accuracy is 0.85\n",
      "XGBClassifier(base_score=None, booster=None, callbacks=None,\n",
      "              colsample_bylevel=0.4, colsample_bynode=None,\n",
      "              colsample_bytree=0.9, early_stopping_rounds=None,\n",
      "              enable_categorical=False, eval_metric=None, feature_types=None,\n",
      "              gamma=None, gpu_id=None, grow_policy=None, importance_type=None,\n",
      "              interaction_constraints=None, learning_rate=0.01, max_bin=None,\n",
      "              max_cat_threshold=None, max_cat_to_onehot=None,\n",
      "              max_delta_step=None, max_depth=10, max_leaves=None,\n",
      "              min_child_weight=None, missing=nan, monotone_constraints=None,\n",
      "              n_estimators=500, n_jobs=None, num_parallel_tree=None,\n",
      "              predictor=None, random_state=None, ...) Avg cross val training score is 0.832638279192274\n",
      "XGBClassifier(base_score=None, booster=None, callbacks=None,\n",
      "              colsample_bylevel=0.4, colsample_bynode=None,\n",
      "              colsample_bytree=0.9, early_stopping_rounds=None,\n",
      "              enable_categorical=False, eval_metric=None, feature_types=None,\n",
      "              gamma=None, gpu_id=None, grow_policy=None, importance_type=None,\n",
      "              interaction_constraints=None, learning_rate=0.01, max_bin=None,\n",
      "              max_cat_threshold=None, max_cat_to_onehot=None,\n",
      "              max_delta_step=None, max_depth=10, max_leaves=None,\n",
      "              min_child_weight=None, missing=nan, monotone_constraints=None,\n",
      "              n_estimators=500, n_jobs=None, num_parallel_tree=None,\n",
      "              predictor=None, random_state=None, ...) Avg cross val testing score is 0.8165775401069519\n",
      "Average % test accuracy 81.66\n",
      "Confusion Matrix\n",
      "[[69 16]\n",
      " [10 74]]\n",
      "Classification Report\n",
      "              precision    recall  f1-score   support\n",
      "\n",
      "           0       0.87      0.81      0.84        85\n",
      "           1       0.82      0.88      0.85        84\n",
      "\n",
      "    accuracy                           0.85       169\n",
      "   macro avg       0.85      0.85      0.85       169\n",
      "weighted avg       0.85      0.85      0.85       169\n",
      "\n"
     ]
    }
   ],
   "source": [
    "from xgboost import XGBClassifier\n",
    "\n",
    "xgb = XGBClassifier(subsample=0.5,n_estimators= 500, max_depth=10, learning_rate=0.01,colsample_bytree = 0.90, colsample_bylevel= 0.4)\n",
    "model_val(xgb,x_train,y_train)"
   ]
  },
  {
   "cell_type": "code",
   "execution_count": 132,
   "id": "27b3b429",
   "metadata": {},
   "outputs": [
    {
     "data": {
      "text/plain": [
       "{LogisticRegression(): 78.77,\n",
       " SVC(): 79.32,\n",
       " DecisionTreeClassifier(): 79.91,\n",
       " RandomForestClassifier(): 79.29,\n",
       " GradientBoostingClassifier(): 84.05,\n",
       " GaussianNB(): 81.69,\n",
       " GaussianNB(var_smoothing=0.1): 79.93,\n",
       " KNeighborsClassifier(n_jobs=20, p=8): 75.78,\n",
       " KNeighborsClassifier(n_jobs=20, p=6): 75.78,\n",
       " AdaBoostClassifier(algorithm='SAMME', learning_rate=0.01, n_estimators=500): 79.32,\n",
       " AdaBoostClassifier(): 75.19,\n",
       " XGBClassifier(base_score=None, booster=None, callbacks=None,\n",
       "               colsample_bylevel=None, colsample_bynode=None,\n",
       "               colsample_bytree=None, early_stopping_rounds=None,\n",
       "               enable_categorical=False, eval_metric=None, feature_types=None,\n",
       "               gamma=None, gpu_id=None, grow_policy=None, importance_type=None,\n",
       "               interaction_constraints=None, learning_rate=None, max_bin=None,\n",
       "               max_cat_threshold=None, max_cat_to_onehot=None,\n",
       "               max_delta_step=None, max_depth=None, max_leaves=None,\n",
       "               min_child_weight=None, missing=nan, monotone_constraints=None,\n",
       "               n_estimators=100, n_jobs=None, num_parallel_tree=None,\n",
       "               predictor=None, random_state=None, ...): 82.85,\n",
       " BernoulliNB(): 75.78,\n",
       " BernoulliNB(): 75.78,\n",
       " BaggingClassifier(): 78.07,\n",
       " XGBClassifier(base_score=None, booster=None, callbacks=None,\n",
       "               colsample_bylevel=0.5, colsample_bynode=None,\n",
       "               colsample_bytree=0.9, early_stopping_rounds=None,\n",
       "               enable_categorical=False, eval_metric=None, feature_types=None,\n",
       "               gamma=None, gpu_id=None, grow_policy=None, importance_type=None,\n",
       "               interaction_constraints=None, learning_rate=0.01, max_bin=None,\n",
       "               max_cat_threshold=None, max_cat_to_onehot=None,\n",
       "               max_delta_step=None, max_depth=20, max_leaves=None,\n",
       "               min_child_weight=None, missing=nan, monotone_constraints=None,\n",
       "               n_estimators=1000, n_jobs=None, num_parallel_tree=None,\n",
       "               predictor=None, random_state=None, ...): 79.91}"
      ]
     },
     "execution_count": 132,
     "metadata": {},
     "output_type": "execute_result"
    }
   ],
   "source": [
    "model_df"
   ]
  },
  {
   "cell_type": "markdown",
   "id": "114c17d7",
   "metadata": {},
   "source": [
    "# Hyperparameter for XGBClassifier"
   ]
  },
  {
   "cell_type": "code",
   "execution_count": 136,
   "id": "d8a06f38",
   "metadata": {},
   "outputs": [
    {
     "name": "stdout",
     "output_type": "stream",
     "text": [
      "Fitting 5 folds for each of 25 candidates, totalling 125 fits\n",
      "Best Parameters: {'subsample': 0.5, 'n_estimators': 500, 'max_depth': 10, 'learning_rate': 0.01, 'colsample_bytree': 0.8999999999999999, 'colsample_bylevel': 0.4}\n"
     ]
    }
   ],
   "source": [
    "params ={\"max_depth\":[3,5,6,10,15,20],\n",
    "        \"learning_rate\":[0.01,0.1,0.2,0.3],\n",
    "        'subsample':np.arange(0.5,1.0,0.1),\n",
    "        \"colsample_bytree\":np.arange(0.4,1.0,0.1),\n",
    "        \"colsample_bylevel\":np.arange(0.4,1.0,0.1),\n",
    "        \"n_estimators\":[100,500,1000]}\n",
    "\n",
    "xgbr = XGBClassifier()\n",
    "rscv = RandomizedSearchCV(estimator=xgbr,\n",
    "                         param_distributions=params,\n",
    "                         scoring = \"neg_mean_squared_error\",\n",
    "                         n_iter = 25,\n",
    "                         cv=5,\n",
    "                         verbose=1)\n",
    "\n",
    "rscv.fit(x_train,y_train)\n",
    "y_pred_tuned_xgb= rscv.predict(x_test)\n",
    "\n",
    "print(\"Best Parameters:\",rscv.best_params_)"
   ]
  },
  {
   "cell_type": "code",
   "execution_count": null,
   "id": "1021c7fc",
   "metadata": {},
   "outputs": [],
   "source": []
  }
 ],
 "metadata": {
  "kernelspec": {
   "display_name": "Python 3 (ipykernel)",
   "language": "python",
   "name": "python3"
  },
  "language_info": {
   "codemirror_mode": {
    "name": "ipython",
    "version": 3
   },
   "file_extension": ".py",
   "mimetype": "text/x-python",
   "name": "python",
   "nbconvert_exporter": "python",
   "pygments_lexer": "ipython3",
   "version": "3.9.13"
  }
 },
 "nbformat": 4,
 "nbformat_minor": 5
}
